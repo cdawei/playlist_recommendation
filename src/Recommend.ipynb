{
 "cells": [
  {
   "cell_type": "markdown",
   "metadata": {},
   "source": [
    "# Recommendation"
   ]
  },
  {
   "cell_type": "markdown",
   "metadata": {},
   "source": [
    "Make recommendation for a (partial) playlist by scoring each song $m$ by its\n",
    "1. popularity, i.e., the total number of occurrence in all playlists in MPD,\n",
    "2. otherwise, we first score each playlist in training set by all seed songs (denoted by $\\widetilde m$) in the (partial) playlist as $\\sum_{\\widetilde m} \\mathbf{p}_n^\\top \\mathbf{s}_{\\widetilde m}$, then choose the top $100$ scored training playlists $\\left\\{\\mathbf{p}_k \\right\\}_{k=1}^{100}$ to score song $m$ by\n",
    "$$\n",
    "b_m + \\sum_{k} \\mathbf{p}_k^\\top \\mathbf{s}_m\n",
    "$$\n",
    "where $\\mathbf{s}_m$ and $b_m$ are the latent feature vector and bias of song $m$, respectively.\n",
    "\n",
    "Lastly, we take the top 500 scored songs (excluding the seed songs) as recommendation."
   ]
  },
  {
   "cell_type": "code",
   "execution_count": null,
   "metadata": {},
   "outputs": [],
   "source": [
    "import os\n",
    "import gzip\n",
    "import torch\n",
    "import numpy as np\n",
    "import pickle as pkl\n",
    "from tqdm import tqdm\n",
    "from scipy.sparse import isspmatrix_csr"
   ]
  },
  {
   "cell_type": "code",
   "execution_count": null,
   "metadata": {},
   "outputs": [],
   "source": [
    "feature_dim = 200  # latent feature dimension"
   ]
  },
  {
   "cell_type": "code",
   "execution_count": null,
   "metadata": {},
   "outputs": [],
   "source": [
    "data_dir = 'data'\n",
    "fparam = os.path.join(data_dir, 'mf-%d-mpd.npy' % feature_dim)\n",
    "fchallenge = os.path.join(data_dir, 'challenge_set.pkl.gz')\n",
    "fmftrain = os.path.join(data_dir, 'mftrain_mpd.pkl.gz')\n",
    "fsong2pop = os.path.join(data_dir, 'song2pop_mpd.pkl.gz')\n",
    "fsubmit = os.path.join(data_dir, 'submit-%d.csv' % feature_dim)"
   ]
  },
  {
   "cell_type": "code",
   "execution_count": null,
   "metadata": {},
   "outputs": [],
   "source": [
    "song2pop = pkl.load(gzip.open(fsong2pop, 'rb'))\n",
    "song_sorted = sorted(song2pop, key=lambda sid: (-song2pop[sid], sid))"
   ]
  },
  {
   "cell_type": "code",
   "execution_count": null,
   "metadata": {},
   "outputs": [],
   "source": [
    "Y, song2index = pkl.load(gzip.open(fmftrain, 'rb'))\n",
    "index2song = {ix: sid for sid, ix in song2index.items()}\n",
    "assert isspmatrix_csr(Y)"
   ]
  },
  {
   "cell_type": "markdown",
   "metadata": {},
   "source": [
    "Load trained parameters"
   ]
  },
  {
   "cell_type": "code",
   "execution_count": null,
   "metadata": {},
   "outputs": [],
   "source": [
    "w = np.load(fparam, allow_pickle=False)\n",
    "N, M = Y.shape\n",
    "D = feature_dim\n",
    "S = w[:D * M].reshape(D, M)\n",
    "b = w[D * M:(D + 1) * M].reshape(1, M)\n",
    "P = w[(D + 1) * M:].reshape(N, D)"
   ]
  },
  {
   "cell_type": "markdown",
   "metadata": {},
   "source": [
    "Transfer parameters to GPU if available"
   ]
  },
  {
   "cell_type": "code",
   "execution_count": null,
   "metadata": {},
   "outputs": [],
   "source": [
    "if torch.cuda.is_available():\n",
    "    device = torch.device('cuda:0')\n",
    "    S = torch.from_numpy(S).to(device)\n",
    "    b = torch.from_numpy(b).to(device)\n",
    "    P = torch.from_numpy(P).to(device)"
   ]
  },
  {
   "cell_type": "markdown",
   "metadata": {},
   "source": [
    "Load challenge set"
   ]
  },
  {
   "cell_type": "code",
   "execution_count": null,
   "metadata": {},
   "outputs": [],
   "source": [
    "task_dict = pkl.load(gzip.open(fchallenge, 'rb'))"
   ]
  },
  {
   "cell_type": "markdown",
   "metadata": {},
   "source": [
    "Make prediction"
   ]
  },
  {
   "cell_type": "code",
   "execution_count": null,
   "metadata": {},
   "outputs": [],
   "source": [
    "pred_dict = dict()\n",
    "NUM_REC = 500\n",
    "k = 100\n",
    "\n",
    "for task in range(1, 11):\n",
    "    for query in tqdm(task_dict[task]):\n",
    "        pid = query['pid']\n",
    "        tracks = query['tracks']\n",
    "        if len(tracks) == 0:\n",
    "            pred_dict[pid] = song_sorted[:NUM_REC]\n",
    "            continue     \n",
    "        if torch.cuda.is_available():\n",
    "            seed_vec = S[:, [song2index[sid] for sid in tracks]].sum(dim=1).view(D, 1)\n",
    "            pv, pix = torch.mm(P, seed_vec).sum(dim=1).view(-1).topk(k)\n",
    "            phi = P[pix, :].sum(dim=0).view(1, D)\n",
    "            scores = torch.mm(phi, S).view(-1) + b.view(-1)\n",
    "            v, ix = torch.sort(-scores, dim=-1)\n",
    "            indices = ix[:2 * NUM_REC].cpu().numpy()\n",
    "        else:\n",
    "            seed_vec = S[:, [song2index[sid] for sid in tracks]].sum(axis=1).reshape(D, 1)\n",
    "            pix = np.argpartition(np.dot(P, seed_vec).sum(axis=1).reshape(-1), -k)[-k:]\n",
    "            phi = P[pix, :].sum(axis=0).reshape(1, D)\n",
    "            scores = torch.mm(phi, S).reshape(-1) + b.reshape(-1)\n",
    "            indices = np.argsort(-scores)[:2 * NUM_REC]\n",
    "        songs = [index2song[ix] for ix in indices if index2song[ix] not in set(tracks)]\n",
    "        pred_dict[pid] = songs[:NUM_REC]"
   ]
  },
  {
   "cell_type": "markdown",
   "metadata": {},
   "source": [
    "Generate submission file"
   ]
  },
  {
   "cell_type": "code",
   "execution_count": null,
   "metadata": {},
   "outputs": [],
   "source": [
    "def gen_submission(fout, pred_dict):\n",
    "    assert len(pred_dict) == int(1e4)\n",
    "    assert fout.endswith('.csv')\n",
    "    header = 'team_info,main,dchen,u5708856@anu.edu.au'\n",
    "    prefix = 'spotify:track'\n",
    "    lines = [header]\n",
    "    for pid in sorted(pred_dict):\n",
    "        tracks = pred_dict[pid]\n",
    "        line = [str(pid)] + ['%s:%s' % (prefix, track) for track in tracks]\n",
    "        lines.append(','.join(line))\n",
    "    with open(fout, 'w') as fd:\n",
    "        fd.writelines('\\n'.join(lines))\n",
    "    print('{:,} lines written.'.format(len(lines)))"
   ]
  },
  {
   "cell_type": "code",
   "execution_count": null,
   "metadata": {},
   "outputs": [],
   "source": [
    "gen_submission(fsubmit, pred_dict)"
   ]
  },
  {
   "cell_type": "markdown",
   "metadata": {},
   "source": [
    "Compress submission file"
   ]
  },
  {
   "cell_type": "code",
   "execution_count": null,
   "metadata": {},
   "outputs": [],
   "source": [
    "!gzip $fsubmit"
   ]
  }
 ],
 "metadata": {
  "kernelspec": {
   "display_name": "Python 3",
   "language": "python",
   "name": "python3"
  },
  "language_info": {
   "codemirror_mode": {
    "name": "ipython",
    "version": 3
   },
   "file_extension": ".py",
   "mimetype": "text/x-python",
   "name": "python",
   "nbconvert_exporter": "python",
   "pygments_lexer": "ipython3",
   "version": "3.6.6"
  }
 },
 "nbformat": 4,
 "nbformat_minor": 2
}
