{
 "cells": [
  {
   "cell_type": "markdown",
   "metadata": {},
   "source": [
    "# Dataset Preprocess"
   ]
  },
  {
   "cell_type": "code",
   "execution_count": null,
   "metadata": {},
   "outputs": [],
   "source": [
    "import os\n",
    "import sys\n",
    "import gzip\n",
    "import json\n",
    "import pickle as pkl\n",
    "from tqdm import tqdm\n",
    "from scipy.sparse import lil_matrix"
   ]
  },
  {
   "cell_type": "code",
   "execution_count": null,
   "metadata": {},
   "outputs": [],
   "source": [
    "data_dir = 'data'\n",
    "mpd_dir = os.path.join(data_dir, 'mpd')\n",
    "fchallenge_json = os.path.join(data_dir, 'challenge_set.json')\n",
    "fchallenge = os.path.join(data_dir, 'challenge_set.pkl.gz')\n",
    "fsongs = os.path.join(data_dir, 'songs_mpd.pkl.gz')\n",
    "fsong2pop = os.path.join(data_dir, 'song2pop_mpd.pkl.gz')\n",
    "fmftrain = os.path.join(data_dir, 'mftrain_train.pkl.gz')"
   ]
  },
  {
   "cell_type": "markdown",
   "metadata": {},
   "source": [
    "## Load MPD"
   ]
  },
  {
   "cell_type": "code",
   "execution_count": null,
   "metadata": {},
   "outputs": [],
   "source": [
    "all_playlists = []\n",
    "all_songs = dict()"
   ]
  },
  {
   "cell_type": "code",
   "execution_count": null,
   "metadata": {},
   "outputs": [],
   "source": [
    "for name in tqdm(sorted(os.listdir(mpd_dir))):\n",
    "    assert name.startswith('mpd.slice.') and name.endswith('.json')\n",
    "    fname = os.path.join(mpd_dir, name)\n",
    "    with open(fname, 'r') as fd:\n",
    "        mpd_slice = json.loads(fd.read())\n",
    "        for pl in mpd_slice['playlists']:\n",
    "            playlist = dict()\n",
    "            assert 'pid' in pl\n",
    "            playlist['pid'] = pl['pid']\n",
    "            playlist['name'] = pl['name'] if 'name' in pl else ''\n",
    "            playlist['collaborative'] = int(bool(pl['collaborative'])) if 'collaborative' in pl else 0\n",
    "            playlist['modified_at'] = pl['modified_at'] if 'modified_at' in pl else 0\n",
    "            playlist['num_albums'] = pl['num_albums'] if 'num_albums' in pl else 0\n",
    "            playlist['num_followers'] = pl['num_followers'] if 'num_followers' in pl else 0\n",
    "            playlist['num_edits'] = pl['num_edits'] if 'num_edits' in pl else 0\n",
    "            playlist['num_artists'] = pl['num_artists'] if 'num_artists' in pl else 0\n",
    "            playlist['duration_ms'] = pl['duration_ms'] if 'duration_ms' in pl else 0\n",
    "            playlist['description'] = pl['description'] if 'description' in pl else ''\n",
    "            \n",
    "            assert 'num_tracks' in pl\n",
    "            assert 'tracks' in pl\n",
    "            assert pl['num_tracks'] == len(pl['tracks'])\n",
    "            \n",
    "            num_tracks = pl['num_tracks']\n",
    "            tracks = [None for _ in range(num_tracks)]\n",
    "            for t in pl['tracks']:\n",
    "                assert 'track_uri' in t\n",
    "                assert 'pos' in t\n",
    "                sid = t['track_uri'].split(':')[-1]  # discard prefix 'spotify:track:'\n",
    "                tracks[t['pos']] = sid\n",
    "                if sid not in all_songs:\n",
    "                    track_info = dict()\n",
    "                    track_info['track_name'] = t['track_name'] if 'track_name' in t else ''\n",
    "                    track_info['duration_ms'] = t['duration_ms'] if 'duration_ms' in t else 0\n",
    "                    track_info['artist_name'] = t['artist_name'] if 'artist_name' in t else ''\n",
    "                    track_info['artist_uri'] = t['artist_uri'].split(':')[-1] \\\n",
    "                                               if 'artist_uri' in t else ''  # discard prefix 'spotify:artist:'\n",
    "                    track_info['album_uri'] = t['album_uri'].split(':')[-1] \\\n",
    "                                              if 'album_uri' in t else ''    # discard prefix 'spotify:album:'\n",
    "                    track_info['album_name'] = t['album_name'] if 'album_name' in t else ''\n",
    "                    all_songs[sid] = track_info\n",
    "\n",
    "            playlist['tracks'] = tracks\n",
    "            all_playlists.append(playlist)"
   ]
  },
  {
   "cell_type": "markdown",
   "metadata": {},
   "source": [
    "Number of playlists: 1,000,000"
   ]
  },
  {
   "cell_type": "code",
   "execution_count": null,
   "metadata": {},
   "outputs": [],
   "source": [
    "print('#playlists: {:,}'.format(len(all_playlists)))"
   ]
  },
  {
   "cell_type": "markdown",
   "metadata": {},
   "source": [
    "Number of unique tracks: 2,262,292"
   ]
  },
  {
   "cell_type": "code",
   "execution_count": null,
   "metadata": {},
   "outputs": [],
   "source": [
    "print('#tracks: {:,}'.format(len(all_songs)))"
   ]
  },
  {
   "cell_type": "markdown",
   "metadata": {},
   "source": [
    "Save to file"
   ]
  },
  {
   "cell_type": "code",
   "execution_count": null,
   "metadata": {},
   "outputs": [],
   "source": [
    "pkl.dump(all_songs, gzip.open(fsongs, 'wb'))"
   ]
  },
  {
   "cell_type": "markdown",
   "metadata": {},
   "source": [
    "## Song popularity"
   ]
  },
  {
   "cell_type": "code",
   "execution_count": null,
   "metadata": {},
   "outputs": [],
   "source": [
    "song2pop = dict()"
   ]
  },
  {
   "cell_type": "code",
   "execution_count": null,
   "metadata": {},
   "outputs": [],
   "source": [
    "for pl in tqdm(all_playlists):\n",
    "    for track in pl['tracks']:\n",
    "        try:\n",
    "            song2pop[track] += 1\n",
    "        except KeyError:\n",
    "            song2pop[track] = 1"
   ]
  },
  {
   "cell_type": "markdown",
   "metadata": {},
   "source": [
    "Save to file"
   ]
  },
  {
   "cell_type": "code",
   "execution_count": null,
   "metadata": {},
   "outputs": [],
   "source": [
    "pkl.dump(song2pop, gzip.open(fsong2pop, 'wb'))"
   ]
  },
  {
   "cell_type": "markdown",
   "metadata": {},
   "source": [
    "## Load challenge set"
   ]
  },
  {
   "cell_type": "markdown",
   "metadata": {},
   "source": [
    "Organise playlists according to task types:\n",
    "1. Title only\n",
    "1. Title + first 1 track\n",
    "1. Title + first 5 tracks\n",
    "1. Title + first 10 tracks\n",
    "1. Title + first 25 tracks\n",
    "1. Title + first 100 tracks\n",
    "1. First 5 tracks\n",
    "1. First 10 tracks\n",
    "1. Title + 25 random tracks\n",
    "1. Title + 100 random tracks"
   ]
  },
  {
   "cell_type": "code",
   "execution_count": null,
   "metadata": {},
   "outputs": [],
   "source": [
    "tasks_dict = {task: [] for task in range(1, 11)}"
   ]
  },
  {
   "cell_type": "code",
   "execution_count": null,
   "metadata": {},
   "outputs": [],
   "source": [
    "title_cnt = 0\n",
    "with gzip.open(fchallenge_json, 'r') as fd:\n",
    "    challenge_playlists = json.loads(fd.read())\n",
    "    for pl in challenge_playlists['playlists']:\n",
    "        assert 'num_samples' in pl\n",
    "        assert 'tracks' in pl\n",
    "        track_ix = sorted([t['pos'] for t in pl['tracks']])\n",
    "        pl['tracks'] = [t['track_uri'].split(':')[-1] for t in pl['tracks']]  # discard prefix 'spotify:track:'\n",
    "        if 'name' in pl:\n",
    "            title_cnt += 1\n",
    "            if pl['num_samples'] == 0:\n",
    "                tasks_dict[1].append(pl)\n",
    "            elif pl['num_samples'] == 1:\n",
    "                tasks_dict[2].append(pl)\n",
    "            elif pl['num_samples'] == 5:\n",
    "                tasks_dict[3].append(pl)\n",
    "            elif pl['num_samples'] == 10:\n",
    "                tasks_dict[4].append(pl)\n",
    "            elif pl['num_samples'] == 25:\n",
    "                if np.all(np.array(track_ix) == np.arange(25)):\n",
    "                    tasks_dict[5].append(pl)\n",
    "                else:\n",
    "                    tasks_dict[9].append(pl)\n",
    "            else:\n",
    "                assert pl['num_samples'] == 100\n",
    "                if np.all(np.array(track_ix) == np.arange(100)):\n",
    "                    tasks_dict[6].append(pl)\n",
    "                else:\n",
    "                    tasks_dict[10].append(pl)\n",
    "        else:\n",
    "            if pl['num_samples'] == 5:\n",
    "                tasks_dict[7].append(pl)\n",
    "            else:\n",
    "                assert pl['num_samples'] == 10\n",
    "                tasks_dict[8].append(pl)"
   ]
  },
  {
   "cell_type": "markdown",
   "metadata": {},
   "source": [
    "Number of partial playlists with title"
   ]
  },
  {
   "cell_type": "code",
   "execution_count": null,
   "metadata": {},
   "outputs": [],
   "source": [
    "print(title_cnt)"
   ]
  },
  {
   "cell_type": "markdown",
   "metadata": {},
   "source": [
    "Each task should have 1,000 playlists"
   ]
  },
  {
   "cell_type": "code",
   "execution_count": null,
   "metadata": {},
   "outputs": [],
   "source": [
    "for i in range(1, 11):\n",
    "    print('#Playlists for task {:2d}: {:,}'.format(i, len(tasks_dict[i])))"
   ]
  },
  {
   "cell_type": "markdown",
   "metadata": {},
   "source": [
    "Save to file"
   ]
  },
  {
   "cell_type": "code",
   "execution_count": null,
   "metadata": {},
   "outputs": [],
   "source": [
    "pkl.dump(tasks_dict, gzip.open(ftest_challenge, 'wb'))"
   ]
  },
  {
   "cell_type": "markdown",
   "metadata": {},
   "source": [
    "## Train data for matrix factorisation"
   ]
  },
  {
   "cell_type": "code",
   "execution_count": null,
   "metadata": {},
   "outputs": [],
   "source": [
    "song2index = {sid: ix for ix, sid in enumerate(sorted(all_songs))}"
   ]
  },
  {
   "cell_type": "code",
   "execution_count": null,
   "metadata": {},
   "outputs": [],
   "source": [
    "Y = lil_matrix((len(all_playlists), len(song2index)), dtype=np.bool)\n",
    "for i in tqdm(range(len(all_playlists))):\n",
    "    pl = all_playlists[i]\n",
    "    indices = [song2index[sid] for sid in pl['tracks']]\n",
    "    Y[i, indices] = 1\n",
    "Y = Y.tocsr()"
   ]
  },
  {
   "cell_type": "markdown",
   "metadata": {},
   "source": [
    "Save to file"
   ]
  },
  {
   "cell_type": "code",
   "execution_count": null,
   "metadata": {},
   "outputs": [],
   "source": [
    "pkl.dump([Y, song2index], gzip.open(fmftrain, 'wb'))"
   ]
  }
 ],
 "metadata": {
  "kernelspec": {
   "display_name": "Python 3",
   "language": "python",
   "name": "python3"
  },
  "language_info": {
   "codemirror_mode": {
    "name": "ipython",
    "version": 3
   },
   "file_extension": ".py",
   "mimetype": "text/x-python",
   "name": "python",
   "nbconvert_exporter": "python",
   "pygments_lexer": "ipython3",
   "version": "3.6.6"
  }
 },
 "nbformat": 4,
 "nbformat_minor": 2
}
